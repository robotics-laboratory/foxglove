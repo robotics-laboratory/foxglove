{
 "cells": [
  {
   "cell_type": "code",
   "execution_count": 5,
   "metadata": {},
   "outputs": [
    {
     "name": "stdout",
     "output_type": "stream",
     "text": [
      "540.0\n",
      "960.0\n",
      "camera matrix:\n",
      " [[1.75816631e+03 0.00000000e+00 9.95261535e+02]\n",
      " [0.00000000e+00 1.74374606e+03 5.86214872e+02]\n",
      " [0.00000000e+00 0.00000000e+00 1.00000000e+00]]\n",
      "dis_coef:\n",
      " [[ 1.50497653e-01 -1.14192203e+00 -8.38537659e-04 -1.96202401e-03\n",
      "   1.08294422e+00]]\n"
     ]
    }
   ],
   "source": [
    "import cv2\n",
    "import numpy as np\n",
    "import glob\n",
    "\n",
    "DICT = cv2.aruco.DICT_6X6_50           # Тип маркеров aruco\n",
    "CELLS_X, CELLS_Y = 7, 10            # Размер доски (количество клеток)\n",
    "CELL_WIDTH, MARKER_WIDTH = 0.04, 0.02  # Размер клетки и маркера в метрах\n",
    "\n",
    "DICT = cv2.aruco.getPredefinedDictionary(DICT)\n",
    "charuco_board = cv2.aruco.CharucoBoard((CELLS_X, CELLS_Y), CELL_WIDTH, MARKER_WIDTH, DICT)\n",
    "charuco_board.setLegacyPattern(True)\n",
    "#im = charuco_board.generateImage((CELLS_X * 100, CELLS_Y * 100))\n",
    "#cv2.imshow(\"board\", im)\n",
    "#cv2.waitKey(0)\n",
    "\n",
    "aruco_dict = DICT\n",
    "\n",
    "all_corners = []\n",
    "all_ids = []\n",
    "\n",
    "all_detected_corners = []\n",
    "all_detected_ids = []\n",
    "\n",
    "images = glob.glob('/Users/anastasia/meowmeowX/cv/dataset 4/*.jpg')\n",
    "img = cv2.imread('/Users/anastasia/meowmeowX/cv/frame_148.jpg')\n",
    "#cv2.imshow('size', img)\n",
    "#cv2.waitKey(1000)\n",
    "#cv2.destroyAllWindows()\n",
    "#print(img_files)\n",
    "height, width, channels = img.shape\n",
    "\n",
    "print(height/2)\n",
    "print(width/2)\n",
    "\n",
    "all_corners = []\n",
    "all_ids = []\n",
    "current = 0\n",
    "\n",
    "for im in images:\n",
    "    image = cv2.imread(im)\n",
    "    gray = cv2.cvtColor(image, cv2.COLOR_BGR2GRAY)\n",
    "\n",
    "    corners, ids, _ = cv2.aruco.detectMarkers(gray, aruco_dict)\n",
    "\n",
    "    if ids is not None:\n",
    "        ret, ch_corners, ch_ids = cv2.aruco.interpolateCornersCharuco(\n",
    "            corners, ids, gray, charuco_board)\n",
    "        if ret > 0:\n",
    "            all_corners.append(ch_corners)\n",
    "            all_ids.append(ch_ids)\n",
    "            all_detected_corners.append(corners)\n",
    "            all_detected_ids.append(ids)\n",
    "\n",
    "# 相机标定\n",
    "imsize = gray.shape\n",
    "ret, camera_matrix, distortion_coefficients, _, _ = cv2.aruco.calibrateCameraCharuco(\n",
    "    charucoCorners=all_corners,\n",
    "    charucoIds=all_ids,\n",
    "    board=charuco_board,\n",
    "    imageSize=(imsize[1], imsize[0]),\n",
    "    cameraMatrix=None,\n",
    "    distCoeffs=None\n",
    ")\n",
    "\n",
    "print(\"camera matrix:\\n\", camera_matrix)\n",
    "print(\"dis_coef:\\n\", distortion_coefficients)\n"
   ]
  },
  {
   "cell_type": "code",
   "execution_count": null,
   "metadata": {},
   "outputs": [],
   "source": []
  }
 ],
 "metadata": {
  "kernelspec": {
   "display_name": "Python 3 (ipykernel)",
   "language": "python",
   "name": "python3"
  },
  "language_info": {
   "codemirror_mode": {
    "name": "ipython",
    "version": 3
   },
   "file_extension": ".py",
   "mimetype": "text/x-python",
   "name": "python",
   "nbconvert_exporter": "python",
   "pygments_lexer": "ipython3",
   "version": "3.11.7"
  }
 },
 "nbformat": 4,
 "nbformat_minor": 4
}
